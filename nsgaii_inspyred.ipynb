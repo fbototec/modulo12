{
 "cells": [
  {
   "cell_type": "markdown",
   "metadata": {},
   "source": [
    "This code is a modification of [this file](https://github.com/aarongarrett/inspyred/blob/master/examples/standard/nsga_example.py).\n",
    "The complete file of this notebook is [here](https://gist.github.com/pabloQuispe/65fda3d2fd7e976bdc49562e3e3bb1c5)\n",
    "### Choosing libraries\n",
    "Importing required libraries to run script. To install inspyred library see [here](https://github.com/aarongarrett/inspyred/blob/master/docs/installation.rst)"
   ]
  },
  {
   "cell_type": "code",
   "execution_count": 9,
   "metadata": {
    "collapsed": true
   },
   "outputs": [],
   "source": [
    "from random import Random\n",
    "from time import time\n",
    "import inspyred\n",
    "import csv"
   ]
  },
  {
   "cell_type": "markdown",
   "metadata": {},
   "source": [
    "Initializing seed with current time. You can set a constant number to compare different algorithms or parameters.<br /> display is set to True to plot the results."
   ]
  },
  {
   "cell_type": "code",
   "execution_count": 11,
   "metadata": {
    "collapsed": true
   },
   "outputs": [],
   "source": [
    "display=True\n",
    "\n",
    "prng = Random()\n",
    "prng.seed(time())"
   ]
  },
  {
   "cell_type": "markdown",
   "metadata": {},
   "source": [
    "### Choosing problem and method to solve\n",
    "The Kursawe problem is chosen for test, for more information about test functions [here](http://aarongarrett.github.io/inspyred/reference.html#multi-objective-benchmarks).\n",
    "The second line gets the algorithm NSGA2 from the library.<br />\n",
    "* Defaults values for NSGA-II:\n",
    "    * Selection: Tournament selection, size: 2. It randomly picks 2 values and choose the best.\n",
    "    * Archive : best_archive, it saves the best solutions through time"
   ]
  },
  {
   "cell_type": "code",
   "execution_count": 12,
   "metadata": {
    "collapsed": true
   },
   "outputs": [],
   "source": [
    "problem = inspyred.benchmarks.Kursawe(3)\n",
    "ea = inspyred.ec.emo.NSGA2(prng)"
   ]
  },
  {
   "cell_type": "markdown",
   "metadata": {},
   "source": [
    "### Choosing the crossover and mutation \n",
    "For this case: blend_crossover and gaussian_mutation.<br />\n",
    "More about variators (it comprises crossover and mutation functions) [here](http://aarongarrett.github.io/inspyred/reference.html#variators-solution-variation-methods).<br />\n",
    "Besides, the termination criteria is chosen, for this case it's the number of generations."
   ]
  },
  {
   "cell_type": "code",
   "execution_count": 13,
   "metadata": {},
   "outputs": [],
   "source": [
    "ea.variator = [inspyred.ec.variators.blend_crossover,\n",
    "               inspyred.ec.variators.gaussian_mutation]\n",
    "\n",
    "ea.terminator = inspyred.ec.terminators.generation_termination"
   ]
  },
  {
   "cell_type": "markdown",
   "metadata": {},
   "source": [
    "The following parameters are set in *evolve*:\n",
    "* Generator: It generates the initial population\n",
    "* Evaluator: It is used to compute the fitness of the individual\n",
    "* Population size  \n",
    "* Bounder: It bounds the value if they exceed certain values \n",
    "* Maximize: Use to determine if it is a maximization or minimization problem\n",
    "* Maximum number of iterations \n",
    "\n",
    "<br />\n",
    "Besides we can change default parameters of the crossover and mutation function\n",
    "* crossover_rate\n",
    "* mutation_rate"
   ]
  },
  {
   "cell_type": "code",
   "execution_count": 14,
   "metadata": {
    "collapsed": true
   },
   "outputs": [],
   "source": [
    "final_pop = ea.evolve(generator=problem.generator,\n",
    "                      evaluator=problem.evaluator,\n",
    "                      pop_size=100,\n",
    "                      maximize=problem.maximize,\n",
    "                      bounder=problem.bounder,\n",
    "                      max_generations=100,\n",
    "                      crossover_rate = 1,\n",
    "                      mutation_rate=0.1)"
   ]
  },
  {
   "cell_type": "markdown",
   "metadata": {},
   "source": [
    "### Plotting the Pareto-front optimal\n",
    "Plot the results and save in pdf. Remember that *archive* for this case stores the best values through time"
   ]
  },
  {
   "cell_type": "code",
   "execution_count": 15,
   "metadata": {},
   "outputs": [
    {
     "data": {
      "image/png": "[encoded data removed]",
      "text/plain": [
       "<matplotlib.figure.Figure at 0x80ddf10>"
      ]
     },
     "metadata": {},
     "output_type": "display_data"
    }
   ],
   "source": [
    "if display:\n",
    "    final_arc = ea.archive\n",
    "    #print('Best Solutions: \\n')\n",
    "    #for f in final_arc:\n",
    "        #print(f)\n",
    "    import matplotlib.pyplot as plt\n",
    "    x = []\n",
    "    y = []\n",
    "    for f in final_arc:\n",
    "        x.append(f.fitness[0])\n",
    "        y.append(f.fitness[1])\n",
    "    plt.scatter(x, y, color='b')\n",
    "    plt.xlabel(\"Function 1\")\n",
    "    plt.ylabel(\"Function 2\")\n",
    "    #Plot and save in pdf format\n",
    "    plt.savefig('{0} Example ({1}).pdf'.format(ea.__class__.__name__,\n",
    "                                               problem.__class__.__name__),\n",
    "                format='pdf')\n",
    "    plt.show()"
   ]
  },
  {
   "cell_type": "markdown",
   "metadata": {},
   "source": [
    "### Save results in csv file \n",
    "The name of the columns is store in fieldnames. First the variable names then the objectives' name. This is the order in which values will be store in the csv file."
   ]
  },
  {
   "cell_type": "code",
   "execution_count": 16,
   "metadata": {
    "collapsed": true
   },
   "outputs": [],
   "source": [
    "fieldnames = ['x0', 'x1', 'x2','f1','f2']"
   ]
  },
  {
   "cell_type": "markdown",
   "metadata": {},
   "source": [
    "listCandidate stores the candidates value and objective functions"
   ]
  },
  {
   "cell_type": "code",
   "execution_count": 17,
   "metadata": {
    "collapsed": true
   },
   "outputs": [],
   "source": [
    "listCandidate = []\n",
    "for f in final_arc:\n",
    "    listCandidate.append(f.candidate + f.fitness.values)"
   ]
  },
  {
   "cell_type": "markdown",
   "metadata": {},
   "source": [
    "my_list stores a list of dictionaries"
   ]
  },
  {
   "cell_type": "code",
   "execution_count": 18,
   "metadata": {
    "collapsed": true
   },
   "outputs": [],
   "source": [
    "my_list = []\n",
    "for values in listCandidate:\n",
    "    temp = zip(fieldnames, values)\n",
    "    inner_dict = dict(temp)\n",
    "    my_list.append(inner_dict)"
   ]
  },
  {
   "cell_type": "markdown",
   "metadata": {},
   "source": [
    "The following code stores the values in \"Pareto_Optimal_Solutions.csv\". writeheader() writes a row with the values in fieldnames. Then with the for loop, every candidate is written in the csv."
   ]
  },
  {
   "cell_type": "code",
   "execution_count": 19,
   "metadata": {
    "collapsed": true
   },
   "outputs": [],
   "source": [
    "with open(\"Pareto_Optimal_Solutions.csv\", \"wb\") as out_file:\n",
    "    writer = csv.DictWriter(out_file, fieldnames=fieldnames)\n",
    "    writer.writeheader()\n",
    "    for row in my_list:\n",
    "        writer.writerow(row)\n",
    "    out_file.close()"
   ]
  }
 ],
 "metadata": {
  "kernelspec": {
   "display_name": "Python 3",
   "language": "python",
   "name": "python3"
  },
  "language_info": {
   "codemirror_mode": {
    "name": "ipython",
    "version": 3
   },
   "file_extension": ".py",
   "mimetype": "text/x-python",
   "name": "python",
   "nbconvert_exporter": "python",
   "pygments_lexer": "ipython3",
   "version": "3.6.7"
  }
 },
 "nbformat": 4,
 "nbformat_minor": 2
}
