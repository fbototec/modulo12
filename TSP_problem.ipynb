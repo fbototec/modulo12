{
 "cells": [
  {
   "cell_type": "code",
   "execution_count": 1,
   "metadata": {},
   "outputs": [],
   "source": [
    "import pandas as pd\n",
    "import numpy as np\n",
    "from deap import base,tools,algorithms,creator\n",
    "import scipy as sc"
   ]
  },
  {
   "cell_type": "code",
   "execution_count": 2,
   "metadata": {},
   "outputs": [],
   "source": [
    "def FitnessEvaluator(individual,df):\n",
    "    df=np.matrix(df)\n",
    "    w1_vals=[]\n",
    "    for i in range(len(individual)-1):\n",
    "        w1_vals.append(df[individual[i],individual[i+1]])\n",
    "    w1_vals.append(df[individual[len(individual)-1],individual[0]])\n",
    "    return [sum(w1_vals)]"
   ]
  },
  {
   "cell_type": "code",
   "execution_count": 3,
   "metadata": {},
   "outputs": [],
   "source": [
    "def GA(pop_size,ngen):\n",
    "    df=pd.read_csv('distance_matrix.csv')\n",
    "    df=df.iloc[:,1:df.shape[1]]\n",
    "    perm_size=df.shape[0]\n",
    "    creator.create(\"FitnessMin\", base.Fitness, weights=(-1.0,))\n",
    "    creator.create(\"Individual\", list, fitness=creator.FitnessMin)\n",
    "\n",
    "    toolbox = base.Toolbox()\n",
    "    toolbox.register(\"indices\", np.random.permutation, perm_size)\n",
    "    toolbox.register(\"individual\", tools.initIterate, creator.Individual,toolbox.indices)\n",
    "\n",
    "    toolbox.register(\"population\", tools.initRepeat, list,toolbox.individual, n=pop_size)\n",
    "    toolbox.register(\"evaluate\", FitnessEvaluator,df=df)\n",
    "\n",
    "    toolbox.register(\"mate\", tools.cxOrdered)\n",
    "    toolbox.register(\"mutate\", tools.mutShuffleIndexes, indpb=0.01)\n",
    "    toolbox.register(\"select\", tools.selTournament,tournsize=3)\n",
    "    #random.seed(42)\n",
    "    #np.random.seed(2)\n",
    "    population = toolbox.population()\n",
    "\n",
    "    stats = tools.Statistics(lambda ind: ind.fitness.values)\n",
    "    stats.register(\"avg\", np.mean)\n",
    "    stats.register(\"std\", np.std)\n",
    "    stats.register(\"min\", np.min)\n",
    "    stats.register(\"max\", np.max)\n",
    "\n",
    "    res,logbook = algorithms.eaSimple(population, toolbox, \n",
    "                                     stats=stats, cxpb=0.5, mutpb=0.2,  ngen=ngen,verbose=True)\n",
    "                                     \n",
    "    best_sol = tools.selBest(population, k=1)                              \n",
    "    return best_sol[0]"
   ]
  },
  {
   "cell_type": "code",
   "execution_count": 4,
   "metadata": {
    "scrolled": false
   },
   "outputs": [
    {
     "name": "stdout",
     "output_type": "stream",
     "text": [
      "gen\tnevals\tavg   \tstd    \tmin   \tmax   \n",
      "0  \t100   \t500696\t26227.4\t445448\t600141\n",
      "1  \t69    \t481777\t22310.8\t433903\t564534\n",
      "2  \t50    \t464652\t18175.2\t424417\t533167\n",
      "3  \t58    \t453095\t15910.1\t416353\t509296\n",
      "4  \t56    \t444517\t19284.6\t406482\t518482\n",
      "5  \t58    \t438064\t20412.6\t403484\t504174\n",
      "6  \t58    \t427638\t17080.8\t377774\t485337\n",
      "7  \t61    \t421057\t20044.2\t371965\t488360\n",
      "8  \t61    \t411899\t18184  \t369784\t478043\n",
      "9  \t66    \t405849\t17779.6\t369784\t457891\n",
      "10 \t54    \t396454\t14861.7\t360576\t440013\n",
      "11 \t66    \t390623\t17685.8\t351813\t435124\n",
      "12 \t50    \t378881\t12938.6\t351813\t417019\n",
      "13 \t57    \t371629\t14103.1\t345086\t435284\n",
      "14 \t57    \t366047\t14466.6\t337990\t421860\n",
      "15 \t72    \t360809\t11154.3\t336975\t408849\n",
      "16 \t62    \t357355\t12632.9\t336975\t399906\n",
      "17 \t60    \t352370\t12377.9\t306605\t402416\n",
      "18 \t58    \t348217\t11496.5\t298886\t377366\n",
      "19 \t52    \t341323\t12772.5\t297929\t380624\n",
      "20 \t66    \t335994\t14493.5\t295095\t389854\n",
      "21 \t61    \t328901\t16620.6\t295095\t369693\n",
      "22 \t76    \t323176\t17594.8\t295095\t370495\n",
      "23 \t62    \t315278\t13668.4\t291848\t352894\n",
      "24 \t63    \t306650\t12081.3\t286603\t351302\n",
      "25 \t67    \t301609\t7377.16\t286603\t325641\n",
      "26 \t73    \t301809\t8588.37\t286603\t324605\n",
      "27 \t58    \t300442\t10304.8\t281600\t337840\n",
      "28 \t55    \t296523\t9431.87\t281600\t326509\n",
      "29 \t66    \t296937\t13091.7\t281059\t343299\n",
      "30 \t62    \t291439\t11001.1\t275548\t338816\n",
      "31 \t66    \t287871\t8735.62\t270520\t312673\n",
      "32 \t68    \t287691\t11108.7\t270520\t323413\n",
      "33 \t54    \t283395\t8698.93\t270520\t314256\n",
      "34 \t65    \t282367\t10750.6\t262181\t337037\n",
      "35 \t62    \t281140\t11406.4\t264672\t329143\n",
      "36 \t59    \t276961\t8490.91\t260105\t307946\n",
      "37 \t59    \t274736\t9927.53\t260105\t322078\n",
      "38 \t48    \t273306\t8229.16\t260105\t306793\n",
      "39 \t58    \t273817\t9931.64\t260444\t306518\n",
      "40 \t58    \t272803\t11131.6\t259301\t316907\n",
      "41 \t53    \t270137\t8619.4 \t259711\t310307\n",
      "42 \t56    \t268824\t8923.7 \t256951\t303811\n",
      "43 \t58    \t266928\t8501.58\t256951\t294832\n",
      "44 \t65    \t265543\t9167.98\t251112\t299335\n",
      "45 \t63    \t264033\t8514.15\t251112\t304908\n",
      "46 \t55    \t261450\t7477.3 \t244157\t289051\n",
      "47 \t56    \t260707\t11184.3\t244157\t306743\n",
      "48 \t75    \t260709\t11799.2\t242285\t310996\n",
      "49 \t54    \t257079\t10063.5\t242285\t285832\n",
      "50 \t61    \t254347\t10367.1\t240356\t287362\n",
      "[12, 23, 46, 85, 96, 45, 78, 2, 76, 62, 35, 49, 8, 59, 69, 93, 58, 5, 95, 61, 38, 98, 87, 30, 72, 82, 7, 77, 25, 57, 10, 88, 51, 79, 86, 26, 54, 33, 14, 42, 67, 27, 91, 84, 56, 13, 18, 20, 32, 99, 53, 6, 1, 31, 21, 24, 70, 63, 11, 90, 80, 43, 55, 97, 4, 64, 60, 9, 81, 17, 73, 36, 39, 15, 92, 52, 41, 83, 19, 71, 3, 37, 47, 48, 29, 50, 16, 34, 44, 66, 75, 68, 28, 94, 22, 65, 89, 0, 40, 74]\n"
     ]
    }
   ],
   "source": [
    "output = GA(100,50)\n",
    "print (output)"
   ]
  },
  {
   "cell_type": "code",
   "execution_count": null,
   "metadata": {},
   "outputs": [],
   "source": []
  }
 ],
 "metadata": {
  "kernelspec": {
   "display_name": "Python 3",
   "language": "python",
   "name": "python3"
  },
  "language_info": {
   "codemirror_mode": {
    "name": "ipython",
    "version": 3
   },
   "file_extension": ".py",
   "mimetype": "text/x-python",
   "name": "python",
   "nbconvert_exporter": "python",
   "pygments_lexer": "ipython3",
   "version": "3.6.7"
  }
 },
 "nbformat": 4,
 "nbformat_minor": 4
}
